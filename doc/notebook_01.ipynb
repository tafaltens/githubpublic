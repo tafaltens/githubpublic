{
 "cells": [
  {
   "cell_type": "markdown",
   "metadata": {},
   "source": [
    "# Example nanoHUB Jupyter App using a public GitHub repo\n",
    "\n",
    "This nanoHUB app was created using a public GitHub repository, and serves as an example Jupyter app that provides some instructions on how to create a nanoHUB app of your own.  This app has open GitHub and nanoFORGE repositories that you can explore.\n",
    "\n",
    "Additionally, this app provides some practice in navigating around the folders that can be connected in an app.\n",
    "\n",
    "Press the shift and enter keys together (\"Shift-Enter\") to run the cells in these notebooks, or click the Run button."
   ]
  },
  {
   "cell_type": "markdown",
   "metadata": {},
   "source": [
    "### Linking to other notebooks in this app\n",
    "\n",
    "It is easy to link to other notebooks in a nanoHUB Jupyter app by using the first notebook (the one that is invoked) as a Table of Contents.\n",
    "\n",
    "To add the links, use the following format in a markdown cell:\n",
    "\n",
    "`[Text for link to the Notebook ](notebook_name.ipynb)`\n",
    "\n",
    "An example <b> Table of Contents</b> for this app is below. Double click around the text (in the markdown cell) to open up the cell to see the formatting markdown code.\n",
    "\n",
    "Keep this notebook open in one of your tabs so that you can easily come back and access the <b>Table of Contents </b> after running other notebooks."
   ]
  },
  {
   "cell_type": "markdown",
   "metadata": {},
   "source": [
    "### Table of Contents\n",
    "\n",
    "* [Notebook 2](../notebook_02.ipynb) provides information on the nanoHUB App Templates in GitHub.\n",
    "\n",
    "* [Notebook 3](../bin/notebook_03.ipynb) shows how to display an image file with a known path. \n",
    "\n",
    "* This notebook does not have a link to Notebook 4, but you can find the link in notebook 3.\n",
    "\n",
    "* [Notebook 5](../notebook_05.ipynb) shows how to search for images when the paths are not known\n",
    "\n",
    "* [Notebook 6](../notebook_05.ipynb) shows how to search for images in the installed app, in /apps\n",
    "\n",
    "\n",
    "* additional notebooks may be added to cover the following topics: \n",
    "  * saving files\n",
    "  * caveats with opening more than one tab with the same file\n",
    "  * version control (or lack thereof)"
   ]
  },
  {
   "cell_type": "markdown",
   "metadata": {},
   "source": [
    "### References and Acknowlegements\n",
    "\n",
    "A giant thank you to Steve Clark, without whose help I would never have figured out all these different relationships.  Steve provided all of the essential, up to date information I needed to understand how to publish nanoHUB apps.\n",
    "\n",
    "These are also listed on the Tool page.\n",
    "\n",
    "Instructions for How to draw a kitten: https://www.youtube.com/watch?v=XkNdgMZCCMs\n",
    "Consider adding How to embed a video in Jupyter Notebooks... \n",
    "\n",
    "Instructions for printing more than one output for a cell, using Display:\n",
    "https://stackoverflow.com/questions/34398054/ipython-notebook-cell-multiple-outputs\n"
   ]
  }
 ],
 "metadata": {
  "kernelspec": {
   "display_name": "Python 3",
   "language": "python",
   "name": "python3"
  },
  "language_info": {
   "codemirror_mode": {
    "name": "ipython",
    "version": 3
   },
   "file_extension": ".py",
   "mimetype": "text/x-python",
   "name": "python",
   "nbconvert_exporter": "python",
   "pygments_lexer": "ipython3",
   "version": "3.7.7"
  }
 },
 "nbformat": 4,
 "nbformat_minor": 2
}
