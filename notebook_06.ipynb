{
 "cells": [
  {
   "cell_type": "markdown",
   "metadata": {},
   "source": [
    "## Sixth Notebook\n",
    "\n",
    "### This notebook searches for all the kittens in the <b> /apps/githubpublic/r8 </b> folder "
   ]
  },
  {
   "cell_type": "code",
   "execution_count": 11,
   "metadata": {},
   "outputs": [
    {
     "name": "stdout",
     "output_type": "stream",
     "text": [
      "/apps/githubpublic/r8/examples/kitten_01.png\n",
      "/apps/githubpublic/r8/examples/kitten_02.png\n",
      "/apps/githubpublic/r8/examples/kitten_03.png\n"
     ]
    }
   ],
   "source": [
    "# This searches through all the folders in the published version in apps. It works with r8.  What will be the next version number, r9?\n",
    "# import the libraries we need\n",
    "import os\n",
    "import glob\n",
    "from IPython.display import Image, display\n",
    "\n",
    "for file_path in glob.glob('/apps/githubpublic/r8/**/*.png', recursive=True):\n",
    "    print(file_path)"
   ]
  },
  {
   "cell_type": "code",
   "execution_count": 7,
   "metadata": {},
   "outputs": [],
   "source": [
    "# Try the same code for r9.\n",
    "for file_path in glob.glob('/apps/githubpublic/r9/**/*.png', recursive=True):\n",
    "    print(file_path)"
   ]
  },
  {
   "cell_type": "code",
   "execution_count": 8,
   "metadata": {},
   "outputs": [
    {
     "name": "stdout",
     "output_type": "stream",
     "text": [
      "['/apps/githubpublic/r8/examples/kitten_01.png', '/apps/githubpublic/r8/examples/kitten_02.png', '/apps/githubpublic/r8/examples/kitten_03.png']\n"
     ]
    }
   ],
   "source": [
    "# make a list of all the kitten (.png) files in r8 examples\n",
    "image_location = os.path.join('/apps','githubpublic','r8','examples','kitten*.png')  # what if there are images in other folders?  Where are the kittens?\n",
    "image_names = glob.glob(image_location)\n",
    "print(image_names)"
   ]
  },
  {
   "cell_type": "code",
   "execution_count": 9,
   "metadata": {},
   "outputs": [
    {
     "name": "stdout",
     "output_type": "stream",
     "text": [
      "['/apps/githubpublic/r8/examples/kitten_01.png', '/apps/githubpublic/r8/examples/kitten_02.png', '/apps/githubpublic/r8/examples/kitten_03.png']\n"
     ]
    }
   ],
   "source": [
    "# make a list of all the image (.png) files in r8 examples\n",
    "image_location = os.path.join('/apps','githubpublic','r8','examples','*.png')  # what if there are images in other folders?  Where are the kittens?\n",
    "image_names = glob.glob(image_location)\n",
    "print(image_names)"
   ]
  },
  {
   "cell_type": "markdown",
   "metadata": {},
   "source": [
    "Display the kittens in the published app in /apps, in the tool revision 8"
   ]
  },
  {
   "cell_type": "code",
   "execution_count": 10,
   "metadata": {},
   "outputs": [
    {
     "data": {
      "image/png": "[encoded data removed]",
      "text/plain": [
       "<IPython.core.display.Image object>"
      ]
     },
     "metadata": {},
     "output_type": "display_data"
    },
    {
     "data": {
      "image/png": "[encoded data removed]",
      "text/plain": [
       "<IPython.core.display.Image object>"
      ]
     },
     "metadata": {},
     "output_type": "display_data"
    },
    {
     "data": {
      "image/png": "[encoded data removed]",
      "text/plain": [
       "<IPython.core.display.Image object>"
      ]
     },
     "metadata": {},
     "output_type": "display_data"
    }
   ],
   "source": [
    "for imageName in image_names:\n",
    "    display(Image(filename=imageName))"
   ]
  },
  {
   "cell_type": "markdown",
   "metadata": {},
   "source": [
    "### Try the same code with r9, if that is the next version number."
   ]
  },
  {
   "cell_type": "code",
   "execution_count": 16,
   "metadata": {},
   "outputs": [],
   "source": [
    "# Try the same code for r9 to look for all image files anywhere in version 9 of the app.\n",
    "for file_path9 in glob.glob('/apps/githubpublic/r9/**/*.png', recursive=True):\n",
    "    print(file_path9)"
   ]
  },
  {
   "cell_type": "code",
   "execution_count": 18,
   "metadata": {},
   "outputs": [
    {
     "name": "stdout",
     "output_type": "stream",
     "text": [
      "[]\n"
     ]
    }
   ],
   "source": [
    "# make a list of all the kitten (.png) files in r9 examples\n",
    "kitten_location9 = os.path.join('/apps','githubpublic','r9','examples','kitten*.png')  # what if there are images in other folders?  Where are the kittens?\n",
    "kitten_names9 = glob.glob(kitten_location9)\n",
    "print(kitten_names9)"
   ]
  },
  {
   "cell_type": "code",
   "execution_count": 20,
   "metadata": {},
   "outputs": [],
   "source": [
    "# Display the kittens in the published app in /apps, in the tool revision 9\n",
    "\n",
    "for item in kitten_names9:\n",
    "    display(Image(filename=item)) # display the image of the kitten\n",
    "    display(item)                 # also display the pathname for the kitten"
   ]
  },
  {
   "cell_type": "code",
   "execution_count": 21,
   "metadata": {},
   "outputs": [
    {
     "name": "stdout",
     "output_type": "stream",
     "text": [
      "[]\n"
     ]
    }
   ],
   "source": [
    "# make a list of all the image (.png) files in r9 examples folder\n",
    "image_location9 = os.path.join('/apps','githubpublic','r9','examples','*.png')  # what if there are images in other folders?  Where are the kittens?\n",
    "image_names9 = glob.glob(image_location9)\n",
    "print(image_names9)"
   ]
  },
  {
   "cell_type": "code",
   "execution_count": null,
   "metadata": {},
   "outputs": [],
   "source": [
    "all_apps_image_locations=[]  # make another list that looks for ALL images in ALL folders\n",
    "\n",
    "for image_file9 in glob.glob('/apps/githubpublic/r9/**/*.png', recursive=True):\n",
    "all_apps_image_locations.append(image_file9)\n",
    "    \n",
    "# Display all of the images\n",
    "\n",
    "for item in all_apps_image_locations:\n",
    "    display(Image(filename=item)) # display the image of the kitten\n",
    "    display(item)                 # also display the pathname for the kitten"
   ]
  }
 ],
 "metadata": {
  "kernelspec": {
   "display_name": "Python 3",
   "language": "python",
   "name": "python3"
  },
  "language_info": {
   "codemirror_mode": {
    "name": "ipython",
    "version": 3
   },
   "file_extension": ".py",
   "mimetype": "text/x-python",
   "name": "python",
   "nbconvert_exporter": "python",
   "pygments_lexer": "ipython3",
   "version": "3.7.7"
  }
 },
 "nbformat": 4,
 "nbformat_minor": 2
}
